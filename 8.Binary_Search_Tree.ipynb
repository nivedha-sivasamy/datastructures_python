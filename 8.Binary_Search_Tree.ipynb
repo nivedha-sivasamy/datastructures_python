{
  "cells": [
    {
      "cell_type": "code",
      "execution_count": null,
      "id": "silver-translation",
      "metadata": {
        "id": "silver-translation"
      },
      "outputs": [],
      "source": [
        "class Node:\n",
        "    __slots__='element','left','right'\n",
        "\n",
        "    def __init__(self,element,left=None,right=None):\n",
        "        self.element=element\n",
        "        self.left=left\n",
        "        self.right=right\n",
        "\n",
        "class BinaryTree(Node):\n",
        "\n",
        "    def __init__(self):\n",
        "        self.root=None\n",
        "\n",
        "    def insert(self,troot,e):\n",
        "        if troot:\n",
        "          if e<troot.element:\n",
        "            troot.left=self.insert(troot.left,e)\n",
        "          elif e>troot.element:\n",
        "            troot.right=self.insert(troot.right,e)\n",
        "        else:\n",
        "          n=Node(e)\n",
        "          troot=n\n",
        "        return troot\n",
        "\n",
        "    def preorder(self,troot):\n",
        "        if troot:\n",
        "            print(troot.element,end='  ')\n",
        "            self.preorder(troot.left)\n",
        "            self.preorder(troot.right)\n",
        "\n",
        "\n",
        "    def inorder(self,troot):\n",
        "        if troot:\n",
        "            self.inorder(troot.left)\n",
        "            print(troot.element,end='  ')\n",
        "            self.inorder(troot.right)\n",
        "\n",
        "\n",
        "    def postorder(self,troot):\n",
        "        if troot:\n",
        "            self.postorder(troot.left)\n",
        "            self.postorder(troot.right)\n",
        "            print(troot.element,end='  ')"
      ]
    },
    {
      "cell_type": "code",
      "execution_count": null,
      "id": "common-riverside",
      "metadata": {
        "id": "common-riverside"
      },
      "outputs": [],
      "source": [
        "def main():\n",
        "    print('Creation of Binary Search Tree.')\n",
        "    n=int(input(\"Enter number of nodes required \"))\n",
        "    e=[]\n",
        "    s=BinaryTree()\n",
        "    for i in range(n):\n",
        "        el=int(input(\"Enter elements.\"))\n",
        "        e.append(el)\n",
        "    for j in e:\n",
        "        s.root=s.insert(s.root,j)\n",
        "        print(j,end=' ')\n",
        "    while True:\n",
        "        print(\"\\nTraversal operations: \")\n",
        "        print('1.PreOrder\\n2.InOrder\\n3.PostOrder\\n4.Exit')\n",
        "        try:\n",
        "            choice=int(input(\"\\nEnter the choice: \"))\n",
        "            if choice==1:\n",
        "                print(\"\\nPreOrder Traversal: \")\n",
        "                s.preorder(s.root)\n",
        "                print()\n",
        "            if choice==2:\n",
        "                print(\"\\nInOrder Traversal: \")\n",
        "                s.inorder(s.root)\n",
        "                print()\n",
        "            if choice==3:\n",
        "                print(\"\\nPostOrder Traversal: \")\n",
        "                s.postorder(s.root)\n",
        "                print()\n",
        "            if choice==4:\n",
        "                print(\"\\nExit.\")\n",
        "                break\n",
        "\n",
        "        except:\n",
        "            print(\"\\nSomething is wrong!!!\")"
      ]
    },
    {
      "cell_type": "code",
      "execution_count": null,
      "id": "fitting-beaver",
      "metadata": {
        "colab": {
          "base_uri": "https://localhost:8080/"
        },
        "id": "fitting-beaver",
        "outputId": "64f5976e-01ea-4674-f3c6-688f3f4aaa07"
      },
      "outputs": [
        {
          "output_type": "stream",
          "name": "stdout",
          "text": [
            "Creation of Binary Search Tree.\n",
            "Enter number of nodes required 10\n",
            "Enter elements.15\n",
            "Enter elements.21\n",
            "Enter elements.3\n",
            "Enter elements.25\n",
            "Enter elements.45\n",
            "Enter elements.67\n",
            "Enter elements.89\n",
            "Enter elements.30\n",
            "Enter elements.90\n",
            "Enter elements.55\n",
            "15 21 3 25 45 67 89 30 90 55 \n",
            "Traversal operations: \n",
            "1.PreOrder\n",
            "2.InOrder\n",
            "3.PostOrder\n",
            "4.Exit\n",
            "\n",
            "Enter the choice: 1\n",
            "\n",
            "PreOrder Traversal: \n",
            "15  3  21  25  45  30  67  55  89  90  \n",
            "\n",
            "Traversal operations: \n",
            "1.PreOrder\n",
            "2.InOrder\n",
            "3.PostOrder\n",
            "4.Exit\n",
            "\n",
            "Enter the choice: 2\n",
            "\n",
            "InOrder Traversal: \n",
            "3  15  21  25  30  45  55  67  89  90  \n",
            "\n",
            "Traversal operations: \n",
            "1.PreOrder\n",
            "2.InOrder\n",
            "3.PostOrder\n",
            "4.Exit\n",
            "\n",
            "Enter the choice: 3\n",
            "\n",
            "PostOrder Traversal: \n",
            "3  30  55  90  89  67  45  25  21  15  \n",
            "\n",
            "Traversal operations: \n",
            "1.PreOrder\n",
            "2.InOrder\n",
            "3.PostOrder\n",
            "4.Exit\n",
            "\n",
            "Enter the choice: 4\n",
            "\n",
            "Exit.\n"
          ]
        }
      ],
      "source": [
        "main()"
      ]
    }
  ],
  "metadata": {
    "kernelspec": {
      "display_name": "Python 3 (ipykernel)",
      "language": "python",
      "name": "python3"
    },
    "language_info": {
      "codemirror_mode": {
        "name": "ipython",
        "version": 3
      },
      "file_extension": ".py",
      "mimetype": "text/x-python",
      "name": "python",
      "nbconvert_exporter": "python",
      "pygments_lexer": "ipython3",
      "version": "3.9.12"
    },
    "colab": {
      "provenance": []
    }
  },
  "nbformat": 4,
  "nbformat_minor": 5
}