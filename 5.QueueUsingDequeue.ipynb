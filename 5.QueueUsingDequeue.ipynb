{
  "cells": [
    {
      "cell_type": "markdown",
      "id": "mysterious-school",
      "metadata": {
        "id": "mysterious-school"
      },
      "source": [
        "# Queue using dequeue"
      ]
    },
    {
      "cell_type": "code",
      "execution_count": null,
      "id": "passing-murder",
      "metadata": {
        "id": "passing-murder"
      },
      "outputs": [],
      "source": [
        "from collections import deque\n",
        "\n",
        "class Queue:\n",
        "\n",
        "    def __init__(self):\n",
        "        self.queue = deque()\n",
        "\n",
        "    def isEmpty(self):\n",
        "         return len(self.queue) == 0\n",
        "\n",
        "    def peek(self):\n",
        "        return self.queue[0]\n",
        "\n",
        "    def enqueue(self, x):\n",
        "        self.x = x\n",
        "        return self.queue.append(x)\n",
        "\n",
        "    def dequeue(self):\n",
        "        return self.queue.popleft()\n",
        "\n",
        "    def size(self):\n",
        "        return len(self.queue)\n",
        "\n",
        "    def display(self):\n",
        "        print(self.queue)"
      ]
    },
    {
      "cell_type": "code",
      "execution_count": null,
      "id": "beginning-bobby",
      "metadata": {
        "id": "beginning-bobby"
      },
      "outputs": [],
      "source": [
        "def queue():\n",
        "    print(\"Queue Operations.\")\n",
        "    print(\"1.Enqueue \\n2.Dequeue\\n3.First\\n4.Size\\n5.isEmpty\\n6.Display\\n7.End\")\n",
        "    q=Queue()\n",
        "    while True:\n",
        "        c=input(\"Enter a choice \")\n",
        "        if c in ('1','2','3','4','5','6','7'):\n",
        "            if c=='1':\n",
        "                val=input('enter a value ')\n",
        "                q.enqueue(val)\n",
        "                print(\"the queue is\")\n",
        "                q.display()\n",
        "            if c=='2':\n",
        "                if q.isEmpty():\n",
        "                    print(\"Empty\")\n",
        "                else:\n",
        "                    print(\"The dequed value is \",q.dequeue())\n",
        "            if c=='3':\n",
        "                if q.isEmpty():\n",
        "                    print(\"empty\")\n",
        "                else:\n",
        "                    print(\"The first element is \",q.peek())\n",
        "            if c=='4':\n",
        "                 print('size of q= ',q.size())\n",
        "            if c=='5':\n",
        "                print(q.isEmpty())\n",
        "            if c=='6':\n",
        "                if q.isEmpty():\n",
        "                    print(\"empty\")\n",
        "                else:\n",
        "                    q.display()\n",
        "            if c=='7':\n",
        "                print(\"End program\")\n",
        "                break\n",
        "        else:\n",
        "            print(\"invalid input\")\n",
        ""
      ]
    },
    {
      "cell_type": "code",
      "source": [
        "queue()"
      ],
      "metadata": {
        "colab": {
          "base_uri": "https://localhost:8080/"
        },
        "id": "M4CfZnr_AYOL",
        "outputId": "1abea0dd-b8ba-4c23-8d5d-9d3cef0519c0"
      },
      "id": "M4CfZnr_AYOL",
      "execution_count": null,
      "outputs": [
        {
          "output_type": "stream",
          "name": "stdout",
          "text": [
            "Queue Operations.\n",
            "1.Enqueue \n",
            "2.Dequeue\n",
            "3.First\n",
            "4.Size\n",
            "5.isEmpty\n",
            "6.Display\n",
            "7.End\n",
            "Enter a choice 1\n",
            "enter a value 25\n",
            "the queue is\n",
            "deque(['25'])\n",
            "Enter a choice 3\n",
            "The first element is  25\n",
            "Enter a choice 6\n",
            "deque(['25'])\n",
            "Enter a choice 7\n",
            "End program\n"
          ]
        }
      ]
    },
    {
      "cell_type": "code",
      "execution_count": null,
      "id": "different-election",
      "metadata": {
        "id": "different-election"
      },
      "outputs": [],
      "source": []
    }
  ],
  "metadata": {
    "kernelspec": {
      "display_name": "Python 3 (ipykernel)",
      "language": "python",
      "name": "python3"
    },
    "language_info": {
      "codemirror_mode": {
        "name": "ipython",
        "version": 3
      },
      "file_extension": ".py",
      "mimetype": "text/x-python",
      "name": "python",
      "nbconvert_exporter": "python",
      "pygments_lexer": "ipython3",
      "version": "3.8.5"
    },
    "colab": {
      "provenance": []
    }
  },
  "nbformat": 4,
  "nbformat_minor": 5
}