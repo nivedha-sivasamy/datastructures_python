{
  "cells": [
    {
      "cell_type": "markdown",
      "id": "innocent-canal",
      "metadata": {
        "id": "innocent-canal"
      },
      "source": [
        "# Stack Operations"
      ]
    },
    {
      "cell_type": "code",
      "execution_count": null,
      "id": "english-failure",
      "metadata": {
        "id": "english-failure"
      },
      "outputs": [],
      "source": [
        "class Stack():\n",
        "    def __init__(self):\n",
        "        self._data=[]\n",
        "    def size(self):\n",
        "        return (len(self._data))\n",
        "    def is_empty(self):\n",
        "        return (len(self._data)==0)\n",
        "    def push(self,item):\n",
        "        self._data.append(item)\n",
        "    def pop(self):\n",
        "        if self.is_empty():\n",
        "            print(\"The stack is empty\")\n",
        "            return\n",
        "        return self._data.pop()\n",
        "    def top(self):\n",
        "        if self.is_empty():\n",
        "            print(\"The stack is empty\")\n",
        "            return\n",
        "        return self._data[-1]\n",
        "    def display(self):\n",
        "            print(self._data)"
      ]
    },
    {
      "cell_type": "code",
      "execution_count": null,
      "id": "outside-commerce",
      "metadata": {
        "id": "outside-commerce"
      },
      "outputs": [],
      "source": [
        "def main():\n",
        "    print(\"This Program creates a Stack data structure\")\n",
        "    s=Stack()\n",
        "    print(\"The operations of Stack are :\\n1.Push\\n2.Pop\\n3.Top\\n4.Is Empty\")\n",
        "    print(\"5.Display the Stack\\n6.Size of Stack\\n7.Exit\")\n",
        "    while True:\n",
        "        c=input(\"Enter your choice \")\n",
        "        if c in ('1','2','3','4','5','6','7'):\n",
        "            if c=='1':\n",
        "                i=input(\"Enter the element to be added \")\n",
        "                s.push(i)\n",
        "            if c=='2':\n",
        "                if s.is_empty():\n",
        "                    s.pop()\n",
        "                else:\n",
        "                    print(\"The removed element is \",s.pop())\n",
        "            if c=='3':\n",
        "                if s.is_empty():\n",
        "                    s.top()\n",
        "                else:\n",
        "                    print(\"The Top most element is \",s.top())\n",
        "            if c=='4':\n",
        "                print(s.is_empty())\n",
        "            if c=='5':\n",
        "                if s.is_empty():\n",
        "                    print(\"The stack is empty\")\n",
        "                else:\n",
        "                    s.display()\n",
        "            if c=='6':\n",
        "                print(s.size())\n",
        "            if c=='7':\n",
        "                print(\"Exiting the Program\\nThank You\")\n",
        "                break\n",
        "        else:\n",
        "            print(\"Invalid Choice\")\n",
        "\n"
      ]
    },
    {
      "cell_type": "code",
      "execution_count": null,
      "id": "spoken-hygiene",
      "metadata": {
        "id": "spoken-hygiene",
        "outputId": "cabda9a8-8130-4934-db9f-367afd310357"
      },
      "outputs": [
        {
          "name": "stdout",
          "output_type": "stream",
          "text": [
            "This Program creates a Stack data structure\n",
            "The operations of Stack are :\n",
            "1.Push\n",
            "2.Pop\n",
            "3.Top\n",
            "4.Is Empty\n",
            "5.Display the Stack\n",
            "6.Size of Stack\n",
            "7.Exit\n",
            "Enter your choice 1\n",
            "Enter the element to be added 13\n",
            "Enter your choice nivedha\n",
            "Invalid Choice\n",
            "Enter your choice 1\n",
            "Enter the element to be added nivedha\n",
            "Enter your choice 1\n",
            "Enter the element to be added 25/10/2000\n",
            "Enter your choice 2\n",
            "The removed element is  25/10/2000\n",
            "Enter your choice 3\n",
            "The Top most element is  nivedha\n",
            "Enter your choice 4\n",
            "False\n",
            "Enter your choice 5\n",
            "['13', 'nivedha']\n",
            "Enter your choice 6\n",
            "2\n",
            "Enter your choice 7\n",
            "Exiting the Program\n",
            "Thank You\n"
          ]
        }
      ],
      "source": [
        "main()"
      ]
    },
    {
      "cell_type": "code",
      "execution_count": null,
      "id": "liberal-system",
      "metadata": {
        "id": "liberal-system"
      },
      "outputs": [],
      "source": []
    }
  ],
  "metadata": {
    "kernelspec": {
      "display_name": "Python 3",
      "language": "python",
      "name": "python3"
    },
    "language_info": {
      "codemirror_mode": {
        "name": "ipython",
        "version": 3
      },
      "file_extension": ".py",
      "mimetype": "text/x-python",
      "name": "python",
      "nbconvert_exporter": "python",
      "pygments_lexer": "ipython3",
      "version": "3.8.5"
    },
    "colab": {
      "provenance": []
    }
  },
  "nbformat": 4,
  "nbformat_minor": 5
}